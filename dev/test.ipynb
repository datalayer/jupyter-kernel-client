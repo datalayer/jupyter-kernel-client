{
 "cells": [
  {
   "cell_type": "code",
   "execution_count": 2,
   "id": "fd6883f5-cc54-49e6-9a3b-e1c42c7a7ef0",
   "metadata": {
    "execution": {
     "iopub.execute_input": "2025-06-29T08:29:22.507795Z",
     "iopub.status.busy": "2025-06-29T08:29:22.507368Z",
     "iopub.status.idle": "2025-06-29T08:29:22.511278Z",
     "shell.execute_reply": "2025-06-29T08:29:22.510975Z",
     "shell.execute_reply.started": "2025-06-29T08:29:22.507780Z"
    }
   },
   "outputs": [
    {
     "data": {
      "text/plain": [
       "1"
      ]
     },
     "execution_count": 2,
     "metadata": {},
     "output_type": "execute_result"
    }
   ],
   "source": [
    "x"
   ]
  },
  {
   "cell_type": "code",
   "execution_count": null,
   "id": "0f08c4b8-8733-4a06-aeeb-adf952297590",
   "metadata": {},
   "outputs": [],
   "source": []
  }
 ],
 "metadata": {
  "kernelspec": {
   "display_name": "Python 3 (ipykernel)",
   "language": "python",
   "name": "python3"
  },
  "language_info": {
   "codemirror_mode": {
    "name": "ipython",
    "version": 3
   },
   "file_extension": ".py",
   "mimetype": "text/x-python",
   "name": "python",
   "nbconvert_exporter": "python",
   "pygments_lexer": "ipython3",
   "version": "3.11.12"
  }
 },
 "nbformat": 4,
 "nbformat_minor": 5
}
